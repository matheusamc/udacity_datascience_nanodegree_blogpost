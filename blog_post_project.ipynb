{
 "cells": [
  {
   "cell_type": "markdown",
   "id": "55e47aa6",
   "metadata": {},
   "source": [
    "<h1>Cidade Maravilhosa: Where to stay and how much to pay?</h1>\n",
    "<p>In this notebook, all the necessary process to retrieve the data from the datasets, understand it, prepare it and analize it will be made. Our aim, is to use the that to answer the question raised in the blogpost and in the README file. </p>"
   ]
  },
  {
   "cell_type": "markdown",
   "id": "dd0376e5",
   "metadata": {},
   "source": [
    "<h2>Libraries Import</h2>"
   ]
  },
  {
   "cell_type": "code",
   "execution_count": 1,
   "id": "75583a80",
   "metadata": {},
   "outputs": [],
   "source": [
    "# Importing libraries to be used\n",
    "import numpy as np\n",
    "import pandas as pd\n",
    "import matplotlib.pyplot as plt\n",
    "%matplotlib inline"
   ]
  },
  {
   "cell_type": "markdown",
   "id": "23eb3be4",
   "metadata": {},
   "source": [
    "<h2>Data Reading</h3>"
   ]
  },
  {
   "cell_type": "code",
   "execution_count": 2,
   "id": "24968fec",
   "metadata": {},
   "outputs": [],
   "source": [
    "# Importing the datasets to be used\n",
    "df_listings = pd.read_csv('listings.csv')\n",
    "df_reviews = pd.read_csv('reviews.csv')\n",
    "df_calendar = pd.read_csv('calendar.csv')\n",
    "df_neighbourhoods = pd.read_csv('neighbourhoods.csv')"
   ]
  },
  {
   "cell_type": "markdown",
   "id": "5d99c1db",
   "metadata": {},
   "source": [
    "<h3>Listings</h3>\n",
    "<p>From the listings dataset we can get the information about the listings and hosts, including the id, detailed description, review, status and location.</p>"
   ]
  },
  {
   "cell_type": "code",
   "execution_count": 3,
   "id": "1af7e960",
   "metadata": {},
   "outputs": [
    {
     "data": {
      "text/html": [
       "<div>\n",
       "<style scoped>\n",
       "    .dataframe tbody tr th:only-of-type {\n",
       "        vertical-align: middle;\n",
       "    }\n",
       "\n",
       "    .dataframe tbody tr th {\n",
       "        vertical-align: top;\n",
       "    }\n",
       "\n",
       "    .dataframe thead th {\n",
       "        text-align: right;\n",
       "    }\n",
       "</style>\n",
       "<table border=\"1\" class=\"dataframe\">\n",
       "  <thead>\n",
       "    <tr style=\"text-align: right;\">\n",
       "      <th></th>\n",
       "      <th>id</th>\n",
       "      <th>listing_url</th>\n",
       "      <th>scrape_id</th>\n",
       "      <th>last_scraped</th>\n",
       "      <th>source</th>\n",
       "      <th>name</th>\n",
       "      <th>description</th>\n",
       "      <th>neighborhood_overview</th>\n",
       "      <th>picture_url</th>\n",
       "      <th>host_id</th>\n",
       "      <th>...</th>\n",
       "      <th>review_scores_communication</th>\n",
       "      <th>review_scores_location</th>\n",
       "      <th>review_scores_value</th>\n",
       "      <th>license</th>\n",
       "      <th>instant_bookable</th>\n",
       "      <th>calculated_host_listings_count</th>\n",
       "      <th>calculated_host_listings_count_entire_homes</th>\n",
       "      <th>calculated_host_listings_count_private_rooms</th>\n",
       "      <th>calculated_host_listings_count_shared_rooms</th>\n",
       "      <th>reviews_per_month</th>\n",
       "    </tr>\n",
       "  </thead>\n",
       "  <tbody>\n",
       "    <tr>\n",
       "      <th>0</th>\n",
       "      <td>783493769216852616</td>\n",
       "      <td>https://www.airbnb.com/rooms/783493769216852616</td>\n",
       "      <td>20221229002515</td>\n",
       "      <td>2022-12-29</td>\n",
       "      <td>city scrape</td>\n",
       "      <td>Leme, Brasil</td>\n",
       "      <td>Apartamento aconchegante próximo à praia do Le...</td>\n",
       "      <td>NaN</td>\n",
       "      <td>https://a0.muscache.com/pictures/fe1f4b1b-a300...</td>\n",
       "      <td>491704706</td>\n",
       "      <td>...</td>\n",
       "      <td>NaN</td>\n",
       "      <td>NaN</td>\n",
       "      <td>NaN</td>\n",
       "      <td>NaN</td>\n",
       "      <td>f</td>\n",
       "      <td>2</td>\n",
       "      <td>2</td>\n",
       "      <td>0</td>\n",
       "      <td>0</td>\n",
       "      <td>NaN</td>\n",
       "    </tr>\n",
       "    <tr>\n",
       "      <th>1</th>\n",
       "      <td>703973293620197060</td>\n",
       "      <td>https://www.airbnb.com/rooms/703973293620197060</td>\n",
       "      <td>20221229002515</td>\n",
       "      <td>2022-12-29</td>\n",
       "      <td>city scrape</td>\n",
       "      <td>Suíte com entrada independente em casarão 1</td>\n",
       "      <td>Casa ampla, em excelente localização, situada ...</td>\n",
       "      <td>NaN</td>\n",
       "      <td>https://a0.muscache.com/pictures/miso/Hosting-...</td>\n",
       "      <td>20362236</td>\n",
       "      <td>...</td>\n",
       "      <td>5.00</td>\n",
       "      <td>4.00</td>\n",
       "      <td>5.00</td>\n",
       "      <td>NaN</td>\n",
       "      <td>t</td>\n",
       "      <td>4</td>\n",
       "      <td>0</td>\n",
       "      <td>4</td>\n",
       "      <td>0</td>\n",
       "      <td>0.26</td>\n",
       "    </tr>\n",
       "    <tr>\n",
       "      <th>2</th>\n",
       "      <td>782895997622988215</td>\n",
       "      <td>https://www.airbnb.com/rooms/782895997622988215</td>\n",
       "      <td>20221229002515</td>\n",
       "      <td>2022-12-29</td>\n",
       "      <td>city scrape</td>\n",
       "      <td>Apartamento próximo ao metrô</td>\n",
       "      <td>Sua família vai estar perto de tudo ao ficar n...</td>\n",
       "      <td>NaN</td>\n",
       "      <td>https://a0.muscache.com/pictures/d48a6798-d1c8...</td>\n",
       "      <td>302417043</td>\n",
       "      <td>...</td>\n",
       "      <td>NaN</td>\n",
       "      <td>NaN</td>\n",
       "      <td>NaN</td>\n",
       "      <td>NaN</td>\n",
       "      <td>f</td>\n",
       "      <td>1</td>\n",
       "      <td>1</td>\n",
       "      <td>0</td>\n",
       "      <td>0</td>\n",
       "      <td>NaN</td>\n",
       "    </tr>\n",
       "    <tr>\n",
       "      <th>3</th>\n",
       "      <td>23768085</td>\n",
       "      <td>https://www.airbnb.com/rooms/23768085</td>\n",
       "      <td>20221229002515</td>\n",
       "      <td>2022-12-29</td>\n",
       "      <td>city scrape</td>\n",
       "      <td>Vamos a praia</td>\n",
       "      <td>Ótimo apartamento para duas pessoas, de frente...</td>\n",
       "      <td>Localização: praia da Barra da Tijuca, Posto 2...</td>\n",
       "      <td>https://a0.muscache.com/pictures/e43b686c-c4b4...</td>\n",
       "      <td>86611015</td>\n",
       "      <td>...</td>\n",
       "      <td>4.88</td>\n",
       "      <td>4.98</td>\n",
       "      <td>4.78</td>\n",
       "      <td>NaN</td>\n",
       "      <td>t</td>\n",
       "      <td>1</td>\n",
       "      <td>1</td>\n",
       "      <td>0</td>\n",
       "      <td>0</td>\n",
       "      <td>1.59</td>\n",
       "    </tr>\n",
       "    <tr>\n",
       "      <th>4</th>\n",
       "      <td>10463735</td>\n",
       "      <td>https://www.airbnb.com/rooms/10463735</td>\n",
       "      <td>20221229002515</td>\n",
       "      <td>2022-12-29</td>\n",
       "      <td>city scrape</td>\n",
       "      <td>Sobrado aconchegante e espaçoso</td>\n",
       "      <td>Sobrado amplo, arejado, com arquitetura inusit...</td>\n",
       "      <td>Laranjeiras é um bairro histórico do Rio de Ja...</td>\n",
       "      <td>https://a0.muscache.com/pictures/52ffaa78-2e94...</td>\n",
       "      <td>53918534</td>\n",
       "      <td>...</td>\n",
       "      <td>1.00</td>\n",
       "      <td>2.00</td>\n",
       "      <td>1.00</td>\n",
       "      <td>NaN</td>\n",
       "      <td>t</td>\n",
       "      <td>6</td>\n",
       "      <td>2</td>\n",
       "      <td>4</td>\n",
       "      <td>0</td>\n",
       "      <td>0.03</td>\n",
       "    </tr>\n",
       "  </tbody>\n",
       "</table>\n",
       "<p>5 rows × 75 columns</p>\n",
       "</div>"
      ],
      "text/plain": [
       "                   id                                      listing_url  \\\n",
       "0  783493769216852616  https://www.airbnb.com/rooms/783493769216852616   \n",
       "1  703973293620197060  https://www.airbnb.com/rooms/703973293620197060   \n",
       "2  782895997622988215  https://www.airbnb.com/rooms/782895997622988215   \n",
       "3            23768085            https://www.airbnb.com/rooms/23768085   \n",
       "4            10463735            https://www.airbnb.com/rooms/10463735   \n",
       "\n",
       "        scrape_id last_scraped       source  \\\n",
       "0  20221229002515   2022-12-29  city scrape   \n",
       "1  20221229002515   2022-12-29  city scrape   \n",
       "2  20221229002515   2022-12-29  city scrape   \n",
       "3  20221229002515   2022-12-29  city scrape   \n",
       "4  20221229002515   2022-12-29  city scrape   \n",
       "\n",
       "                                          name  \\\n",
       "0                                 Leme, Brasil   \n",
       "1  Suíte com entrada independente em casarão 1   \n",
       "2                 Apartamento próximo ao metrô   \n",
       "3                                Vamos a praia   \n",
       "4              Sobrado aconchegante e espaçoso   \n",
       "\n",
       "                                         description  \\\n",
       "0  Apartamento aconchegante próximo à praia do Le...   \n",
       "1  Casa ampla, em excelente localização, situada ...   \n",
       "2  Sua família vai estar perto de tudo ao ficar n...   \n",
       "3  Ótimo apartamento para duas pessoas, de frente...   \n",
       "4  Sobrado amplo, arejado, com arquitetura inusit...   \n",
       "\n",
       "                               neighborhood_overview  \\\n",
       "0                                                NaN   \n",
       "1                                                NaN   \n",
       "2                                                NaN   \n",
       "3  Localização: praia da Barra da Tijuca, Posto 2...   \n",
       "4  Laranjeiras é um bairro histórico do Rio de Ja...   \n",
       "\n",
       "                                         picture_url    host_id  ...  \\\n",
       "0  https://a0.muscache.com/pictures/fe1f4b1b-a300...  491704706  ...   \n",
       "1  https://a0.muscache.com/pictures/miso/Hosting-...   20362236  ...   \n",
       "2  https://a0.muscache.com/pictures/d48a6798-d1c8...  302417043  ...   \n",
       "3  https://a0.muscache.com/pictures/e43b686c-c4b4...   86611015  ...   \n",
       "4  https://a0.muscache.com/pictures/52ffaa78-2e94...   53918534  ...   \n",
       "\n",
       "  review_scores_communication review_scores_location review_scores_value  \\\n",
       "0                         NaN                    NaN                 NaN   \n",
       "1                        5.00                   4.00                5.00   \n",
       "2                         NaN                    NaN                 NaN   \n",
       "3                        4.88                   4.98                4.78   \n",
       "4                        1.00                   2.00                1.00   \n",
       "\n",
       "  license instant_bookable calculated_host_listings_count  \\\n",
       "0     NaN                f                              2   \n",
       "1     NaN                t                              4   \n",
       "2     NaN                f                              1   \n",
       "3     NaN                t                              1   \n",
       "4     NaN                t                              6   \n",
       "\n",
       "  calculated_host_listings_count_entire_homes  \\\n",
       "0                                           2   \n",
       "1                                           0   \n",
       "2                                           1   \n",
       "3                                           1   \n",
       "4                                           2   \n",
       "\n",
       "  calculated_host_listings_count_private_rooms  \\\n",
       "0                                            0   \n",
       "1                                            4   \n",
       "2                                            0   \n",
       "3                                            0   \n",
       "4                                            4   \n",
       "\n",
       "  calculated_host_listings_count_shared_rooms reviews_per_month  \n",
       "0                                           0               NaN  \n",
       "1                                           0              0.26  \n",
       "2                                           0               NaN  \n",
       "3                                           0              1.59  \n",
       "4                                           0              0.03  \n",
       "\n",
       "[5 rows x 75 columns]"
      ]
     },
     "execution_count": 3,
     "metadata": {},
     "output_type": "execute_result"
    }
   ],
   "source": [
    "# Head of lisitngs dataframe\n",
    "df_listings.head(5)"
   ]
  },
  {
   "cell_type": "code",
   "execution_count": 4,
   "id": "cda9e98d",
   "metadata": {},
   "outputs": [
    {
     "name": "stdout",
     "output_type": "stream",
     "text": [
      "The listings datafile contains 28301 rows and 75 columns. The number of columns with at least 75% of healthy data in this dataset is 57.\n"
     ]
    }
   ],
   "source": [
    "# Looking for the quantity of healthy data\n",
    "no_nulls_listings = len(set(df_listings.columns[df_listings.isnull().mean()<0.25]))\n",
    "print(\"The listings datafile contains {} rows and {} columns. The number of columns with at least 75% of healthy data in this dataset is {}.\".format(df_listings.shape[0],df_listings.shape[1],no_nulls_listings))"
   ]
  },
  {
   "cell_type": "markdown",
   "id": "78f646df",
   "metadata": {},
   "source": [
    "<h3>Reviews</h3>\n",
    "<p>From the review dataset we can get the info about given reviews for a listing, including comments, date, and reviewers data.</p>"
   ]
  },
  {
   "cell_type": "code",
   "execution_count": 5,
   "id": "fdb6b1fb",
   "metadata": {},
   "outputs": [
    {
     "data": {
      "text/html": [
       "<div>\n",
       "<style scoped>\n",
       "    .dataframe tbody tr th:only-of-type {\n",
       "        vertical-align: middle;\n",
       "    }\n",
       "\n",
       "    .dataframe tbody tr th {\n",
       "        vertical-align: top;\n",
       "    }\n",
       "\n",
       "    .dataframe thead th {\n",
       "        text-align: right;\n",
       "    }\n",
       "</style>\n",
       "<table border=\"1\" class=\"dataframe\">\n",
       "  <thead>\n",
       "    <tr style=\"text-align: right;\">\n",
       "      <th></th>\n",
       "      <th>listing_id</th>\n",
       "      <th>id</th>\n",
       "      <th>date</th>\n",
       "      <th>reviewer_id</th>\n",
       "      <th>reviewer_name</th>\n",
       "      <th>comments</th>\n",
       "    </tr>\n",
       "  </thead>\n",
       "  <tbody>\n",
       "    <tr>\n",
       "      <th>0</th>\n",
       "      <td>17878</td>\n",
       "      <td>64852</td>\n",
       "      <td>2010-07-15</td>\n",
       "      <td>135370</td>\n",
       "      <td>Tia</td>\n",
       "      <td>This apartment is in a perfect location -- two...</td>\n",
       "    </tr>\n",
       "    <tr>\n",
       "      <th>1</th>\n",
       "      <td>17878</td>\n",
       "      <td>76744</td>\n",
       "      <td>2010-08-11</td>\n",
       "      <td>10206</td>\n",
       "      <td>Mimi</td>\n",
       "      <td>we had a really great experience staying in Ma...</td>\n",
       "    </tr>\n",
       "    <tr>\n",
       "      <th>2</th>\n",
       "      <td>17878</td>\n",
       "      <td>91074</td>\n",
       "      <td>2010-09-06</td>\n",
       "      <td>80253</td>\n",
       "      <td>Jan</td>\n",
       "      <td>Staying in Max appartment is like living in a ...</td>\n",
       "    </tr>\n",
       "    <tr>\n",
       "      <th>3</th>\n",
       "      <td>17878</td>\n",
       "      <td>137528</td>\n",
       "      <td>2010-11-12</td>\n",
       "      <td>230449</td>\n",
       "      <td>Orene</td>\n",
       "      <td>In general very good and reasonable price.\\r&lt;b...</td>\n",
       "    </tr>\n",
       "    <tr>\n",
       "      <th>4</th>\n",
       "      <td>17878</td>\n",
       "      <td>147594</td>\n",
       "      <td>2010-12-01</td>\n",
       "      <td>219338</td>\n",
       "      <td>David</td>\n",
       "      <td>The apt was nice and in a great location only ...</td>\n",
       "    </tr>\n",
       "  </tbody>\n",
       "</table>\n",
       "</div>"
      ],
      "text/plain": [
       "   listing_id      id        date  reviewer_id reviewer_name  \\\n",
       "0       17878   64852  2010-07-15       135370           Tia   \n",
       "1       17878   76744  2010-08-11        10206          Mimi   \n",
       "2       17878   91074  2010-09-06        80253           Jan   \n",
       "3       17878  137528  2010-11-12       230449         Orene   \n",
       "4       17878  147594  2010-12-01       219338         David   \n",
       "\n",
       "                                            comments  \n",
       "0  This apartment is in a perfect location -- two...  \n",
       "1  we had a really great experience staying in Ma...  \n",
       "2  Staying in Max appartment is like living in a ...  \n",
       "3  In general very good and reasonable price.\\r<b...  \n",
       "4  The apt was nice and in a great location only ...  "
      ]
     },
     "execution_count": 5,
     "metadata": {},
     "output_type": "execute_result"
    }
   ],
   "source": [
    "# Head of reviews dataframe\n",
    "df_reviews.head(5)"
   ]
  },
  {
   "cell_type": "code",
   "execution_count": 6,
   "id": "51fbfb0e",
   "metadata": {},
   "outputs": [
    {
     "name": "stdout",
     "output_type": "stream",
     "text": [
      "The reviews datafile contains 495336 rows and 6 columns. The number of columns with at least 75% of healthy data in this dataset is 6.\n"
     ]
    }
   ],
   "source": [
    "# Looking for the quantity of healthy data\n",
    "no_nulls_reviews = len(set(df_reviews.columns[df_reviews.isnull().mean()<0.25]))\n",
    "print(\"The reviews datafile contains {} rows and {} columns. The number of columns with at least 75% of healthy data in this dataset is {}.\".format(df_reviews.shape[0],df_reviews.shape[1],no_nulls_reviews))"
   ]
  },
  {
   "cell_type": "markdown",
   "id": "d4ed6f80",
   "metadata": {},
   "source": [
    "<h3>Calendar</h3>\n",
    "<p>From the calendar dataset we can get the info about listings avaiblable dates, price, and minimum and maximum number of nights for booking.</p>"
   ]
  },
  {
   "cell_type": "code",
   "execution_count": 7,
   "id": "aeb0d95c",
   "metadata": {},
   "outputs": [
    {
     "data": {
      "text/html": [
       "<div>\n",
       "<style scoped>\n",
       "    .dataframe tbody tr th:only-of-type {\n",
       "        vertical-align: middle;\n",
       "    }\n",
       "\n",
       "    .dataframe tbody tr th {\n",
       "        vertical-align: top;\n",
       "    }\n",
       "\n",
       "    .dataframe thead th {\n",
       "        text-align: right;\n",
       "    }\n",
       "</style>\n",
       "<table border=\"1\" class=\"dataframe\">\n",
       "  <thead>\n",
       "    <tr style=\"text-align: right;\">\n",
       "      <th></th>\n",
       "      <th>listing_id</th>\n",
       "      <th>date</th>\n",
       "      <th>available</th>\n",
       "      <th>price</th>\n",
       "      <th>adjusted_price</th>\n",
       "      <th>minimum_nights</th>\n",
       "      <th>maximum_nights</th>\n",
       "    </tr>\n",
       "  </thead>\n",
       "  <tbody>\n",
       "    <tr>\n",
       "      <th>0</th>\n",
       "      <td>17878</td>\n",
       "      <td>2022-12-30</td>\n",
       "      <td>f</td>\n",
       "      <td>$1,600.00</td>\n",
       "      <td>$1,600.00</td>\n",
       "      <td>5.0</td>\n",
       "      <td>28.0</td>\n",
       "    </tr>\n",
       "    <tr>\n",
       "      <th>1</th>\n",
       "      <td>17878</td>\n",
       "      <td>2022-12-31</td>\n",
       "      <td>f</td>\n",
       "      <td>$1,600.00</td>\n",
       "      <td>$1,600.00</td>\n",
       "      <td>5.0</td>\n",
       "      <td>28.0</td>\n",
       "    </tr>\n",
       "    <tr>\n",
       "      <th>2</th>\n",
       "      <td>17878</td>\n",
       "      <td>2023-01-01</td>\n",
       "      <td>f</td>\n",
       "      <td>$1,600.00</td>\n",
       "      <td>$1,600.00</td>\n",
       "      <td>5.0</td>\n",
       "      <td>28.0</td>\n",
       "    </tr>\n",
       "    <tr>\n",
       "      <th>3</th>\n",
       "      <td>17878</td>\n",
       "      <td>2023-01-02</td>\n",
       "      <td>t</td>\n",
       "      <td>$1,200.00</td>\n",
       "      <td>$1,200.00</td>\n",
       "      <td>5.0</td>\n",
       "      <td>28.0</td>\n",
       "    </tr>\n",
       "    <tr>\n",
       "      <th>4</th>\n",
       "      <td>17878</td>\n",
       "      <td>2023-01-03</td>\n",
       "      <td>f</td>\n",
       "      <td>$1,200.00</td>\n",
       "      <td>$1,200.00</td>\n",
       "      <td>5.0</td>\n",
       "      <td>28.0</td>\n",
       "    </tr>\n",
       "  </tbody>\n",
       "</table>\n",
       "</div>"
      ],
      "text/plain": [
       "   listing_id        date available      price adjusted_price  minimum_nights  \\\n",
       "0       17878  2022-12-30         f  $1,600.00      $1,600.00             5.0   \n",
       "1       17878  2022-12-31         f  $1,600.00      $1,600.00             5.0   \n",
       "2       17878  2023-01-01         f  $1,600.00      $1,600.00             5.0   \n",
       "3       17878  2023-01-02         t  $1,200.00      $1,200.00             5.0   \n",
       "4       17878  2023-01-03         f  $1,200.00      $1,200.00             5.0   \n",
       "\n",
       "   maximum_nights  \n",
       "0            28.0  \n",
       "1            28.0  \n",
       "2            28.0  \n",
       "3            28.0  \n",
       "4            28.0  "
      ]
     },
     "execution_count": 7,
     "metadata": {},
     "output_type": "execute_result"
    }
   ],
   "source": [
    "# Head of calendar dataframe\n",
    "df_calendar.head(5)"
   ]
  },
  {
   "cell_type": "code",
   "execution_count": 8,
   "id": "24ddc020",
   "metadata": {},
   "outputs": [
    {
     "name": "stdout",
     "output_type": "stream",
     "text": [
      "The calendar datafile contains 10329872 rows and 7 columns. The number of columns with at least 75% of healthy data in this dataset is 7.\n"
     ]
    }
   ],
   "source": [
    "# Looking for the quantity of healthy data\n",
    "no_nulls_calendar = len(set(df_calendar.columns[df_calendar.isnull().mean()<0.25]))\n",
    "print(\"The calendar datafile contains {} rows and {} columns. The number of columns with at least 75% of healthy data in this dataset is {}.\".format(df_calendar.shape[0],df_calendar.shape[1],no_nulls_calendar))"
   ]
  },
  {
   "cell_type": "markdown",
   "id": "39398389",
   "metadata": {},
   "source": [
    "<h3>Neighbourhoods</h3>\n",
    "<p>From the Neighbourhoods dataset we can get the list of neighborhoods in Rio.</p>"
   ]
  },
  {
   "cell_type": "code",
   "execution_count": 9,
   "id": "a601907e",
   "metadata": {},
   "outputs": [
    {
     "data": {
      "text/html": [
       "<div>\n",
       "<style scoped>\n",
       "    .dataframe tbody tr th:only-of-type {\n",
       "        vertical-align: middle;\n",
       "    }\n",
       "\n",
       "    .dataframe tbody tr th {\n",
       "        vertical-align: top;\n",
       "    }\n",
       "\n",
       "    .dataframe thead th {\n",
       "        text-align: right;\n",
       "    }\n",
       "</style>\n",
       "<table border=\"1\" class=\"dataframe\">\n",
       "  <thead>\n",
       "    <tr style=\"text-align: right;\">\n",
       "      <th></th>\n",
       "      <th>neighbourhood_group</th>\n",
       "      <th>neighbourhood</th>\n",
       "    </tr>\n",
       "  </thead>\n",
       "  <tbody>\n",
       "    <tr>\n",
       "      <th>0</th>\n",
       "      <td>NaN</td>\n",
       "      <td>Abolição</td>\n",
       "    </tr>\n",
       "    <tr>\n",
       "      <th>1</th>\n",
       "      <td>NaN</td>\n",
       "      <td>Acari</td>\n",
       "    </tr>\n",
       "    <tr>\n",
       "      <th>2</th>\n",
       "      <td>NaN</td>\n",
       "      <td>Água Santa</td>\n",
       "    </tr>\n",
       "    <tr>\n",
       "      <th>3</th>\n",
       "      <td>NaN</td>\n",
       "      <td>Alto da Boa Vista</td>\n",
       "    </tr>\n",
       "    <tr>\n",
       "      <th>4</th>\n",
       "      <td>NaN</td>\n",
       "      <td>Anchieta</td>\n",
       "    </tr>\n",
       "  </tbody>\n",
       "</table>\n",
       "</div>"
      ],
      "text/plain": [
       "   neighbourhood_group      neighbourhood\n",
       "0                  NaN           Abolição\n",
       "1                  NaN              Acari\n",
       "2                  NaN         Água Santa\n",
       "3                  NaN  Alto da Boa Vista\n",
       "4                  NaN           Anchieta"
      ]
     },
     "execution_count": 9,
     "metadata": {},
     "output_type": "execute_result"
    }
   ],
   "source": [
    "# Head of neighbourhood dataframe\n",
    "df_neighbourhoods.head(5)"
   ]
  },
  {
   "cell_type": "code",
   "execution_count": 10,
   "id": "a154ef2e",
   "metadata": {},
   "outputs": [
    {
     "name": "stdout",
     "output_type": "stream",
     "text": [
      "The neighbourhoods datafile contains 160 rows and 2 columns. The number of columns with at least 75% of healthy data in this dataset is 1.\n"
     ]
    }
   ],
   "source": [
    "# Looking for the quantity of healthy data\n",
    "no_nulls_neighbourhoods = len(set(df_neighbourhoods.columns[df_neighbourhoods.isnull().mean()<0.25]))\n",
    "print(\"The neighbourhoods datafile contains {} rows and {} columns. The number of columns with at least 75% of healthy data in this dataset is {}.\".format(df_neighbourhoods.shape[0],df_neighbourhoods.shape[1],no_nulls_neighbourhoods))"
   ]
  },
  {
   "cell_type": "markdown",
   "id": "45c3f807",
   "metadata": {},
   "source": [
    "<h2>Cleaning</h2>\n",
    "<p>We are specially interested in the prices and reviews of the listings. Beacause of that we will drop every row that do not contain any of these information.</p>"
   ]
  },
  {
   "cell_type": "code",
   "execution_count": 11,
   "id": "720b512a",
   "metadata": {},
   "outputs": [
    {
     "name": "stdout",
     "output_type": "stream",
     "text": [
      "The listings datafile contains 19601 rows and 75 columns. The number of columns with at least 75% of healthy data in this dataset is 67.\n"
     ]
    }
   ],
   "source": [
    "df_listings_cleaned = df_listings.copy().dropna(axis=0,subset=['price','review_scores_value'])\n",
    "# Looking for the quantity of healthy data\n",
    "no_nulls_listings = len(set(df_listings_cleaned.columns[df_listings_cleaned.isnull().mean()<0.25]))\n",
    "print(\"The listings datafile contains {} rows and {} columns. The number of columns with at least 75% of healthy data in this dataset is {}.\".format(df_listings_cleaned.shape[0],df_listings_cleaned.shape[1],no_nulls_listings))"
   ]
  },
  {
   "cell_type": "code",
   "execution_count": 12,
   "id": "b7fc2901",
   "metadata": {},
   "outputs": [
    {
     "name": "stdout",
     "output_type": "stream",
     "text": [
      "The listings datafile contains 10329288 rows and 7 columns. The number of columns with at least 75% of healthy data in this dataset is 7.\n"
     ]
    }
   ],
   "source": [
    "df_calendar_cleaned = df_calendar.copy().dropna(axis=0,subset=['price'])\n",
    "# Looking for the quantity of healthy data\n",
    "no_nulls_listings = len(set(df_calendar_cleaned.columns[df_calendar_cleaned.isnull().mean()<0.25]))\n",
    "print(\"The listings datafile contains {} rows and {} columns. The number of columns with at least 75% of healthy data in this dataset is {}.\".format(df_calendar_cleaned.shape[0],df_calendar_cleaned.shape[1],no_nulls_listings))"
   ]
  },
  {
   "cell_type": "markdown",
   "id": "9340d0d1",
   "metadata": {},
   "source": [
    "<h2>Data Understanting and Analisys</h2>"
   ]
  },
  {
   "cell_type": "markdown",
   "id": "24ca2932",
   "metadata": {},
   "source": [
    "<h3>Part I - In what neighbourhood to stay in Rio?</h3>\n",
    "<p>In the following cells, we expect to answer the question above by finding the neighbourhoods with the most listings.</p>"
   ]
  },
  {
   "cell_type": "markdown",
   "id": "0debc328",
   "metadata": {},
   "source": [
    "<p>At first, let's take a look at the number of unique neighborhoods in the listings after cleaning.</p>"
   ]
  },
  {
   "cell_type": "code",
   "execution_count": 13,
   "id": "508cfabf",
   "metadata": {},
   "outputs": [
    {
     "name": "stdout",
     "output_type": "stream",
     "text": [
      "There are 137 unique neighbourhoods in the listings. 85.625% of the neighbourhoods of Rio de Janeiro\n"
     ]
    }
   ],
   "source": [
    "# Looking for the number of listed neoghbourhoods\n",
    "listings_neighbourhoods = set([ x for x in df_listings_cleaned['neighbourhood_cleansed'].unique()])\n",
    "print(\"There are {} unique neighbourhoods in the listings. {}% of the neighbourhoods of Rio de Janeiro\".format(len(listings_neighbourhoods),100*len(listings_neighbourhoods)/df_neighbourhoods.shape[0]))"
   ]
  },
  {
   "cell_type": "markdown",
   "id": "8f6829e0",
   "metadata": {},
   "source": [
    "<p>Let us see the 20 neighbours with more listings.</p>"
   ]
  },
  {
   "cell_type": "code",
   "execution_count": 14,
   "id": "04de9e9d",
   "metadata": {},
   "outputs": [
    {
     "data": {
      "text/plain": [
       "neighbourhood_cleansed\n",
       "Copacabana                  6273\n",
       "Ipanema                     2147\n",
       "Barra da Tijuca             1941\n",
       "Leblon                      1044\n",
       "Jacarepaguá                 1001\n",
       "Botafogo                     922\n",
       "Recreio dos Bandeirantes     883\n",
       "Santa Teresa                 672\n",
       "Centro                       548\n",
       "Flamengo                     449\n",
       "Leme                         376\n",
       "Laranjeiras                  260\n",
       "Tijuca                       225\n",
       "Camorim                      207\n",
       "Glória                       159\n",
       "Catete                       154\n",
       "Lagoa                        135\n",
       "Gávea                        127\n",
       "Jardim Botânico              120\n",
       "Humaitá                      104\n",
       "Name: id, dtype: int64"
      ]
     },
     "execution_count": 14,
     "metadata": {},
     "output_type": "execute_result"
    }
   ],
   "source": [
    "# Looking for the number of listings for each neighbourhood\n",
    "df_listings_neighbourhoods = df_listings_cleaned.groupby(['neighbourhood_cleansed']).count()\n",
    "df_listings_neighbourhoods.sort_values(by='id',ascending=False)['id'].head(20)"
   ]
  },
  {
   "cell_type": "markdown",
   "id": "525a8f9d",
   "metadata": {},
   "source": [
    "<p>For these neighbourhoods, let us see the review scores.</p>"
   ]
  },
  {
   "cell_type": "code",
   "execution_count": 15,
   "id": "426b2cd2",
   "metadata": {},
   "outputs": [
    {
     "data": {
      "text/plain": [
       "neighbourhood_cleansed\n",
       "Laranjeiras                 4.767000\n",
       "Humaitá                     4.750096\n",
       "Tijuca                      4.748489\n",
       "Gávea                       4.746693\n",
       "Flamengo                    4.734120\n",
       "Santa Teresa                4.733839\n",
       "Leme                        4.726117\n",
       "Centro                      4.720584\n",
       "Catete                      4.710779\n",
       "Lagoa                       4.707556\n",
       "Glória                      4.697547\n",
       "Copacabana                  4.695329\n",
       "Recreio dos Bandeirantes    4.692492\n",
       "Botafogo                    4.685499\n",
       "Jardim Botânico             4.683417\n",
       "Jacarepaguá                 4.670450\n",
       "Barra da Tijuca             4.659088\n",
       "Ipanema                     4.658687\n",
       "Leblon                      4.642864\n",
       "Camorim                     4.604058\n",
       "Name: review_scores_value, dtype: float64"
      ]
     },
     "execution_count": 15,
     "metadata": {},
     "output_type": "execute_result"
    }
   ],
   "source": [
    "# Finding the mean review score by neighbourhood\n",
    "df_listings_reviews = df_listings_cleaned.groupby(['neighbourhood_cleansed']).mean()\n",
    "df_listings_reviews = df_listings_reviews[df_listings_reviews.index.isin(df_listings_neighbourhoods.sort_values(by='id',ascending=False)['id'].head(20).index)]\n",
    "df_listings_reviews.sort_values(by='review_scores_value',ascending=False)['review_scores_value']"
   ]
  },
  {
   "cell_type": "markdown",
   "id": "ea6a9659",
   "metadata": {},
   "source": [
    "<p>Now let's format the price column, remove some outliers and see the mean of the remaining data. To do that, we will remove data under Q1 - 1.5*IQR and above Q3 + 1.5*IQR.</p>"
   ]
  },
  {
   "cell_type": "code",
   "execution_count": 16,
   "id": "e4b18af0",
   "metadata": {},
   "outputs": [
    {
     "name": "stderr",
     "output_type": "stream",
     "text": [
      "C:\\Users\\mathe\\AppData\\Local\\Temp\\ipykernel_32696\\829986438.py:4: FutureWarning: Dropping invalid columns in DataFrameGroupBy.quantile is deprecated. In a future version, a TypeError will be raised. Before calling .quantile, select only columns which should be valid for the function.\n",
      "  df_listing_prices_q1 = df_listings_prices.groupby(by='neighbourhood_cleansed').quantile(0.25)['price']\n",
      "C:\\Users\\mathe\\AppData\\Local\\Temp\\ipykernel_32696\\829986438.py:5: FutureWarning: Dropping invalid columns in DataFrameGroupBy.quantile is deprecated. In a future version, a TypeError will be raised. Before calling .quantile, select only columns which should be valid for the function.\n",
      "  df_listing_prices_q3 = df_listings_prices.groupby(by='neighbourhood_cleansed').quantile(0.75)['price']\n"
     ]
    }
   ],
   "source": [
    "# Filtering outlier prices by the quartiles\n",
    "df_listings_prices = df_listings_cleaned.copy()\n",
    "df_listings_prices['price'] = [float(str(x).replace('$',\"\").replace(',',\"\")) for x in df_listings_prices['price']]\n",
    "df_listing_prices_q1 = df_listings_prices.groupby(by='neighbourhood_cleansed').quantile(0.25)['price']\n",
    "df_listing_prices_q3 = df_listings_prices.groupby(by='neighbourhood_cleansed').quantile(0.75)['price']"
   ]
  },
  {
   "cell_type": "code",
   "execution_count": 17,
   "id": "2016a3fd",
   "metadata": {},
   "outputs": [],
   "source": [
    "df_listings_prices = df_listings_prices[df_listings_prices['neighbourhood_cleansed'].isin(df_listings_neighbourhoods.sort_values(by='id',ascending=False)['id'].head(20).index)]"
   ]
  },
  {
   "cell_type": "code",
   "execution_count": 18,
   "id": "16095e5d",
   "metadata": {},
   "outputs": [],
   "source": [
    "df_listings_prices['q1'] = [df_listing_prices_q1[x] for x in df_listings_prices['neighbourhood_cleansed']]\n",
    "df_listings_prices['q3'] = [df_listing_prices_q3[x] for x in df_listings_prices['neighbourhood_cleansed']]"
   ]
  },
  {
   "cell_type": "code",
   "execution_count": 19,
   "id": "4b779c80",
   "metadata": {},
   "outputs": [],
   "source": [
    "df_listings_prices = df_listings_prices[(df_listings_prices['price'] > df_listings_prices['q1'] - 1.5*(df_listings_prices['q3']-df_listings_prices['q1'])) & (df_listings_prices['price'] < df_listings_prices['q3'] + 1.5*(df_listings_prices['q3']-df_listings_prices['q1']))]"
   ]
  },
  {
   "cell_type": "code",
   "execution_count": 20,
   "id": "f5d5c742",
   "metadata": {},
   "outputs": [],
   "source": [
    "df_listings_prices = df_listings_prices.groupby(by='neighbourhood_cleansed').mean().sort_values(by='price',ascending=False)"
   ]
  },
  {
   "cell_type": "markdown",
   "id": "abf09818",
   "metadata": {},
   "source": [
    "<p>To find our final results, let's remove some neighbouhoods that are too far from touristic areas.</p>"
   ]
  },
  {
   "cell_type": "code",
   "execution_count": 21,
   "id": "207f928a",
   "metadata": {},
   "outputs": [],
   "source": [
    "# Removing neighbourhoods we are not interested in\n",
    "far_neighborhoods = ['Recreio dos Bandeirantes','Jacarepaguá','Camorim','Taquara','Barra de Guaratiba','Itanhangá']\n",
    "df_listings_neighbourhoods = df_listings_neighbourhoods[~df_listings_neighbourhoods.index.isin(far_neighborhoods)]\n",
    "df_listings_reviews = df_listings_reviews[~df_listings_reviews.index.isin(far_neighborhoods)]\n",
    "df_listings_prices = df_listings_prices[~df_listings_prices.index.isin(far_neighborhoods)]"
   ]
  },
  {
   "cell_type": "markdown",
   "id": "f165cf47",
   "metadata": {},
   "source": [
    "<p>After that, we can get the final results.</p>"
   ]
  },
  {
   "cell_type": "code",
   "execution_count": 22,
   "id": "34657d9c",
   "metadata": {},
   "outputs": [],
   "source": [
    "# Creating final dataframe\n",
    "df_places = pd.concat([pd.DataFrame(df_listings_neighbourhoods['id'],columns=['id']),pd.DataFrame(df_listings_reviews['review_scores_value'],columns=['review_scores_value']),pd.DataFrame(df_listings_prices['price'],columns=['price'])],axis=1)"
   ]
  },
  {
   "cell_type": "code",
   "execution_count": 23,
   "id": "3daac690",
   "metadata": {},
   "outputs": [
    {
     "data": {
      "text/html": [
       "<div>\n",
       "<style scoped>\n",
       "    .dataframe tbody tr th:only-of-type {\n",
       "        vertical-align: middle;\n",
       "    }\n",
       "\n",
       "    .dataframe tbody tr th {\n",
       "        vertical-align: top;\n",
       "    }\n",
       "\n",
       "    .dataframe thead th {\n",
       "        text-align: right;\n",
       "    }\n",
       "</style>\n",
       "<table border=\"1\" class=\"dataframe\">\n",
       "  <thead>\n",
       "    <tr style=\"text-align: right;\">\n",
       "      <th></th>\n",
       "      <th>id</th>\n",
       "      <th>review_scores_value</th>\n",
       "      <th>price</th>\n",
       "    </tr>\n",
       "    <tr>\n",
       "      <th>neighbourhood_cleansed</th>\n",
       "      <th></th>\n",
       "      <th></th>\n",
       "      <th></th>\n",
       "    </tr>\n",
       "  </thead>\n",
       "  <tbody>\n",
       "    <tr>\n",
       "      <th>Copacabana</th>\n",
       "      <td>6273</td>\n",
       "      <td>4.695329</td>\n",
       "      <td>656.882822</td>\n",
       "    </tr>\n",
       "    <tr>\n",
       "      <th>Ipanema</th>\n",
       "      <td>2147</td>\n",
       "      <td>4.658687</td>\n",
       "      <td>988.982741</td>\n",
       "    </tr>\n",
       "    <tr>\n",
       "      <th>Barra da Tijuca</th>\n",
       "      <td>1941</td>\n",
       "      <td>4.659088</td>\n",
       "      <td>743.739612</td>\n",
       "    </tr>\n",
       "    <tr>\n",
       "      <th>Leblon</th>\n",
       "      <td>1044</td>\n",
       "      <td>4.642864</td>\n",
       "      <td>1075.767442</td>\n",
       "    </tr>\n",
       "    <tr>\n",
       "      <th>Botafogo</th>\n",
       "      <td>922</td>\n",
       "      <td>4.685499</td>\n",
       "      <td>425.664384</td>\n",
       "    </tr>\n",
       "    <tr>\n",
       "      <th>Santa Teresa</th>\n",
       "      <td>672</td>\n",
       "      <td>4.733839</td>\n",
       "      <td>313.671053</td>\n",
       "    </tr>\n",
       "    <tr>\n",
       "      <th>Centro</th>\n",
       "      <td>548</td>\n",
       "      <td>4.720584</td>\n",
       "      <td>290.615234</td>\n",
       "    </tr>\n",
       "    <tr>\n",
       "      <th>Flamengo</th>\n",
       "      <td>449</td>\n",
       "      <td>4.734120</td>\n",
       "      <td>388.552381</td>\n",
       "    </tr>\n",
       "    <tr>\n",
       "      <th>Leme</th>\n",
       "      <td>376</td>\n",
       "      <td>4.726117</td>\n",
       "      <td>622.799419</td>\n",
       "    </tr>\n",
       "    <tr>\n",
       "      <th>Laranjeiras</th>\n",
       "      <td>260</td>\n",
       "      <td>4.767000</td>\n",
       "      <td>401.347107</td>\n",
       "    </tr>\n",
       "  </tbody>\n",
       "</table>\n",
       "</div>"
      ],
      "text/plain": [
       "                          id  review_scores_value        price\n",
       "neighbourhood_cleansed                                        \n",
       "Copacabana              6273             4.695329   656.882822\n",
       "Ipanema                 2147             4.658687   988.982741\n",
       "Barra da Tijuca         1941             4.659088   743.739612\n",
       "Leblon                  1044             4.642864  1075.767442\n",
       "Botafogo                 922             4.685499   425.664384\n",
       "Santa Teresa             672             4.733839   313.671053\n",
       "Centro                   548             4.720584   290.615234\n",
       "Flamengo                 449             4.734120   388.552381\n",
       "Leme                     376             4.726117   622.799419\n",
       "Laranjeiras              260             4.767000   401.347107"
      ]
     },
     "execution_count": 23,
     "metadata": {},
     "output_type": "execute_result"
    }
   ],
   "source": [
    "# Sorting data by id counting.\n",
    "df_places.sort_values(by='id',ascending=False).head(10)"
   ]
  },
  {
   "cell_type": "markdown",
   "id": "f8550160",
   "metadata": {},
   "source": [
    "<p>We can see in the table the top ten neighbourhoods with most listings, that will be our recomendations of places to stay in Rio. We also show the prices and review's score, data that will show us some information about these places. With this results our first question is answered.</p>"
   ]
  },
  {
   "cell_type": "markdown",
   "id": "2e8b58c4",
   "metadata": {},
   "source": [
    "<h2>Part II - What price we expected to pay in these places during the main events in the city?</h2>\n",
    "<p>For the second question we want to find the average plice someno will pay at each location during Carnival and New Year's Eve.</p>"
   ]
  },
  {
   "cell_type": "markdown",
   "id": "05669fdf",
   "metadata": {},
   "source": [
    "<p>Now, let us take a look at the price evolution during New Year's Eve and Carnival these places.</p>"
   ]
  },
  {
   "cell_type": "code",
   "execution_count": 24,
   "id": "49948ee8",
   "metadata": {},
   "outputs": [],
   "source": [
    "# Getting the name of the top 10 neighbourhoods. \n",
    "list_top_neighbourhoods = list(df_places.sort_values(by='id',ascending=False).head(10).index)"
   ]
  },
  {
   "cell_type": "code",
   "execution_count": 25,
   "id": "8c407130",
   "metadata": {},
   "outputs": [],
   "source": [
    "# Filtering to get the data from the listings dataframe for the top 10 neighborhoods.\n",
    "df_top_neighbours = df_listings_cleaned.copy()[df_listings_cleaned['neighbourhood_cleansed'].isin(list_top_neighbourhoods)]"
   ]
  },
  {
   "cell_type": "code",
   "execution_count": 26,
   "id": "7f7a6716",
   "metadata": {},
   "outputs": [],
   "source": [
    "# Creating a dataframe with only the ID and neighbourhood from the listing registry.\n",
    "df_top_neighbours = df_top_neighbours[['id','neighbourhood_cleansed']]"
   ]
  },
  {
   "cell_type": "code",
   "execution_count": 27,
   "id": "0c862207",
   "metadata": {},
   "outputs": [],
   "source": [
    "# Find unique listings id.\n",
    "listings_in_top_neighbourhoods = pd.unique(df_top_neighbours['id'])"
   ]
  },
  {
   "cell_type": "code",
   "execution_count": 28,
   "id": "76e019cd",
   "metadata": {},
   "outputs": [],
   "source": [
    "# Filter calendar dataframe for top neighbourhoods.\n",
    "df_calendar_top_listings = df_calendar_cleaned.copy()[df_calendar_cleaned['listing_id'].isin(listings_in_top_neighbourhoods)]"
   ]
  },
  {
   "cell_type": "code",
   "execution_count": 29,
   "id": "c0324077",
   "metadata": {},
   "outputs": [],
   "source": [
    "# Inserting neighbourhoods for the listings\n",
    "df_calendar_top_listings['neighbourhood'] = [df_top_neighbours[df_top_neighbours['id'] == x]['neighbourhood_cleansed'].values[0] for x in df_calendar_top_listings['listing_id']]"
   ]
  },
  {
   "cell_type": "code",
   "execution_count": 30,
   "id": "76b9e400",
   "metadata": {},
   "outputs": [],
   "source": [
    "# Treating price column\n",
    "df_calendar_top_listings['price'] = [float(str(x).replace('$',\"\").replace(',',\"\")) for x in df_calendar_top_listings['price']]"
   ]
  },
  {
   "cell_type": "code",
   "execution_count": 31,
   "id": "8fd197a3",
   "metadata": {},
   "outputs": [],
   "source": [
    "newyear_dates = ['2022-12-30','2023-01-07']\n",
    "carnival_dates = ['2023-02-16','2023-02-23']"
   ]
  },
  {
   "cell_type": "code",
   "execution_count": 32,
   "id": "67897b69",
   "metadata": {},
   "outputs": [],
   "source": [
    "# Filtering date\n",
    "df_calendar_top_newyear = df_calendar_top_listings.copy()[df_calendar_top_listings['date'].between(newyear_dates[0],newyear_dates[1])]"
   ]
  },
  {
   "cell_type": "code",
   "execution_count": 33,
   "id": "f72bdd91",
   "metadata": {},
   "outputs": [],
   "source": [
    "df_calendar_top_carnival = df_calendar_top_listings.copy()[df_calendar_top_listings['date'].between(carnival_dates[0],carnival_dates[1])]"
   ]
  },
  {
   "cell_type": "code",
   "execution_count": 34,
   "id": "3e47c8da",
   "metadata": {},
   "outputs": [],
   "source": [
    "# Grouping by neighbourhood\n",
    "df_calendar_neighbourhoods_newyear = df_calendar_top_newyear.groupby(by=['neighbourhood']).mean()\n",
    "df_calendar_neighbourhoods_carnival = df_calendar_top_carnival.groupby(by=['neighbourhood']).mean()"
   ]
  },
  {
   "cell_type": "code",
   "execution_count": 35,
   "id": "4519e14e",
   "metadata": {},
   "outputs": [
    {
     "data": {
      "text/html": [
       "<div>\n",
       "<style scoped>\n",
       "    .dataframe tbody tr th:only-of-type {\n",
       "        vertical-align: middle;\n",
       "    }\n",
       "\n",
       "    .dataframe tbody tr th {\n",
       "        vertical-align: top;\n",
       "    }\n",
       "\n",
       "    .dataframe thead th {\n",
       "        text-align: right;\n",
       "    }\n",
       "</style>\n",
       "<table border=\"1\" class=\"dataframe\">\n",
       "  <thead>\n",
       "    <tr style=\"text-align: right;\">\n",
       "      <th></th>\n",
       "      <th>listing_id</th>\n",
       "      <th>price</th>\n",
       "      <th>minimum_nights</th>\n",
       "      <th>maximum_nights</th>\n",
       "    </tr>\n",
       "    <tr>\n",
       "      <th>neighbourhood</th>\n",
       "      <th></th>\n",
       "      <th></th>\n",
       "      <th></th>\n",
       "      <th></th>\n",
       "    </tr>\n",
       "  </thead>\n",
       "  <tbody>\n",
       "    <tr>\n",
       "      <th>Barra da Tijuca</th>\n",
       "      <td>1.772320e+17</td>\n",
       "      <td>1265.695403</td>\n",
       "      <td>4.151239</td>\n",
       "      <td>726.044078</td>\n",
       "    </tr>\n",
       "    <tr>\n",
       "      <th>Botafogo</th>\n",
       "      <td>1.462950e+17</td>\n",
       "      <td>574.609665</td>\n",
       "      <td>4.452037</td>\n",
       "      <td>696.042781</td>\n",
       "    </tr>\n",
       "    <tr>\n",
       "      <th>Centro</th>\n",
       "      <td>1.521775e+17</td>\n",
       "      <td>475.649838</td>\n",
       "      <td>4.400243</td>\n",
       "      <td>747.320965</td>\n",
       "    </tr>\n",
       "    <tr>\n",
       "      <th>Copacabana</th>\n",
       "      <td>1.452488e+17</td>\n",
       "      <td>1145.889828</td>\n",
       "      <td>4.297353</td>\n",
       "      <td>673.579028</td>\n",
       "    </tr>\n",
       "    <tr>\n",
       "      <th>Flamengo</th>\n",
       "      <td>1.309750e+17</td>\n",
       "      <td>1235.165801</td>\n",
       "      <td>6.352141</td>\n",
       "      <td>716.244246</td>\n",
       "    </tr>\n",
       "    <tr>\n",
       "      <th>Ipanema</th>\n",
       "      <td>1.481530e+17</td>\n",
       "      <td>1726.965016</td>\n",
       "      <td>3.914506</td>\n",
       "      <td>667.446204</td>\n",
       "    </tr>\n",
       "    <tr>\n",
       "      <th>Laranjeiras</th>\n",
       "      <td>1.539857e+17</td>\n",
       "      <td>1783.028205</td>\n",
       "      <td>3.756838</td>\n",
       "      <td>618.841880</td>\n",
       "    </tr>\n",
       "    <tr>\n",
       "      <th>Leblon</th>\n",
       "      <td>1.540962e+17</td>\n",
       "      <td>1125.023011</td>\n",
       "      <td>4.352509</td>\n",
       "      <td>656.654309</td>\n",
       "    </tr>\n",
       "    <tr>\n",
       "      <th>Leme</th>\n",
       "      <td>1.606045e+17</td>\n",
       "      <td>1369.190603</td>\n",
       "      <td>4.398050</td>\n",
       "      <td>685.977246</td>\n",
       "    </tr>\n",
       "    <tr>\n",
       "      <th>Santa Teresa</th>\n",
       "      <td>1.210720e+17</td>\n",
       "      <td>1009.324735</td>\n",
       "      <td>3.678241</td>\n",
       "      <td>727.513724</td>\n",
       "    </tr>\n",
       "  </tbody>\n",
       "</table>\n",
       "</div>"
      ],
      "text/plain": [
       "                   listing_id        price  minimum_nights  maximum_nights\n",
       "neighbourhood                                                             \n",
       "Barra da Tijuca  1.772320e+17  1265.695403        4.151239      726.044078\n",
       "Botafogo         1.462950e+17   574.609665        4.452037      696.042781\n",
       "Centro           1.521775e+17   475.649838        4.400243      747.320965\n",
       "Copacabana       1.452488e+17  1145.889828        4.297353      673.579028\n",
       "Flamengo         1.309750e+17  1235.165801        6.352141      716.244246\n",
       "Ipanema          1.481530e+17  1726.965016        3.914506      667.446204\n",
       "Laranjeiras      1.539857e+17  1783.028205        3.756838      618.841880\n",
       "Leblon           1.540962e+17  1125.023011        4.352509      656.654309\n",
       "Leme             1.606045e+17  1369.190603        4.398050      685.977246\n",
       "Santa Teresa     1.210720e+17  1009.324735        3.678241      727.513724"
      ]
     },
     "execution_count": 35,
     "metadata": {},
     "output_type": "execute_result"
    }
   ],
   "source": [
    "# Average price for a daily stay in the 10 neighbourhoods with more listenings during New Year's Eve.\n",
    "df_calendar_neighbourhoods_newyear.head(10)"
   ]
  },
  {
   "cell_type": "code",
   "execution_count": 36,
   "id": "6106951b",
   "metadata": {},
   "outputs": [
    {
     "data": {
      "text/html": [
       "<div>\n",
       "<style scoped>\n",
       "    .dataframe tbody tr th:only-of-type {\n",
       "        vertical-align: middle;\n",
       "    }\n",
       "\n",
       "    .dataframe tbody tr th {\n",
       "        vertical-align: top;\n",
       "    }\n",
       "\n",
       "    .dataframe thead th {\n",
       "        text-align: right;\n",
       "    }\n",
       "</style>\n",
       "<table border=\"1\" class=\"dataframe\">\n",
       "  <thead>\n",
       "    <tr style=\"text-align: right;\">\n",
       "      <th></th>\n",
       "      <th>listing_id</th>\n",
       "      <th>price</th>\n",
       "      <th>minimum_nights</th>\n",
       "      <th>maximum_nights</th>\n",
       "    </tr>\n",
       "    <tr>\n",
       "      <th>neighbourhood</th>\n",
       "      <th></th>\n",
       "      <th></th>\n",
       "      <th></th>\n",
       "      <th></th>\n",
       "    </tr>\n",
       "  </thead>\n",
       "  <tbody>\n",
       "    <tr>\n",
       "      <th>Barra da Tijuca</th>\n",
       "      <td>1.772320e+17</td>\n",
       "      <td>1202.923107</td>\n",
       "      <td>4.351880</td>\n",
       "      <td>721.397089</td>\n",
       "    </tr>\n",
       "    <tr>\n",
       "      <th>Botafogo</th>\n",
       "      <td>1.462950e+17</td>\n",
       "      <td>561.714479</td>\n",
       "      <td>4.603172</td>\n",
       "      <td>692.819279</td>\n",
       "    </tr>\n",
       "    <tr>\n",
       "      <th>Centro</th>\n",
       "      <td>1.521775e+17</td>\n",
       "      <td>764.779653</td>\n",
       "      <td>4.647810</td>\n",
       "      <td>749.531706</td>\n",
       "    </tr>\n",
       "    <tr>\n",
       "      <th>Copacabana</th>\n",
       "      <td>1.452488e+17</td>\n",
       "      <td>1665.810786</td>\n",
       "      <td>4.665856</td>\n",
       "      <td>678.090541</td>\n",
       "    </tr>\n",
       "    <tr>\n",
       "      <th>Flamengo</th>\n",
       "      <td>1.309750e+17</td>\n",
       "      <td>996.283686</td>\n",
       "      <td>6.277561</td>\n",
       "      <td>721.952394</td>\n",
       "    </tr>\n",
       "    <tr>\n",
       "      <th>Ipanema</th>\n",
       "      <td>1.481530e+17</td>\n",
       "      <td>1843.191372</td>\n",
       "      <td>4.215068</td>\n",
       "      <td>667.252678</td>\n",
       "    </tr>\n",
       "    <tr>\n",
       "      <th>Laranjeiras</th>\n",
       "      <td>1.539857e+17</td>\n",
       "      <td>879.035577</td>\n",
       "      <td>3.672596</td>\n",
       "      <td>619.916827</td>\n",
       "    </tr>\n",
       "    <tr>\n",
       "      <th>Leblon</th>\n",
       "      <td>1.540962e+17</td>\n",
       "      <td>1629.068073</td>\n",
       "      <td>4.709492</td>\n",
       "      <td>656.986817</td>\n",
       "    </tr>\n",
       "    <tr>\n",
       "      <th>Leme</th>\n",
       "      <td>1.606045e+17</td>\n",
       "      <td>1140.592420</td>\n",
       "      <td>4.475066</td>\n",
       "      <td>686.691822</td>\n",
       "    </tr>\n",
       "    <tr>\n",
       "      <th>Santa Teresa</th>\n",
       "      <td>1.210720e+17</td>\n",
       "      <td>1083.769531</td>\n",
       "      <td>3.789435</td>\n",
       "      <td>729.519531</td>\n",
       "    </tr>\n",
       "  </tbody>\n",
       "</table>\n",
       "</div>"
      ],
      "text/plain": [
       "                   listing_id        price  minimum_nights  maximum_nights\n",
       "neighbourhood                                                             \n",
       "Barra da Tijuca  1.772320e+17  1202.923107        4.351880      721.397089\n",
       "Botafogo         1.462950e+17   561.714479        4.603172      692.819279\n",
       "Centro           1.521775e+17   764.779653        4.647810      749.531706\n",
       "Copacabana       1.452488e+17  1665.810786        4.665856      678.090541\n",
       "Flamengo         1.309750e+17   996.283686        6.277561      721.952394\n",
       "Ipanema          1.481530e+17  1843.191372        4.215068      667.252678\n",
       "Laranjeiras      1.539857e+17   879.035577        3.672596      619.916827\n",
       "Leblon           1.540962e+17  1629.068073        4.709492      656.986817\n",
       "Leme             1.606045e+17  1140.592420        4.475066      686.691822\n",
       "Santa Teresa     1.210720e+17  1083.769531        3.789435      729.519531"
      ]
     },
     "execution_count": 36,
     "metadata": {},
     "output_type": "execute_result"
    }
   ],
   "source": [
    "# Average price for a daily stay in the 10 neighbourhoods with more listenings during Carnival.\n",
    "df_calendar_neighbourhoods_carnival.head(10)"
   ]
  },
  {
   "cell_type": "markdown",
   "id": "7a3d5f88",
   "metadata": {},
   "source": [
    "<p>Comparing these two tables with the one made for the first question, we can see that the prices have a significantilly increase during these events. We now can answer how much someone will expect pay to stay in these places during the main events of the year in Rio de Janeiro.</p>"
   ]
  },
  {
   "cell_type": "markdown",
   "id": "8b450e33",
   "metadata": {},
   "source": [
    "<h2>Part III - What time of the year to come paying better prices?</h2>\n",
    "<p>We want to find the prices trending during the following year to find the time of the year someno can get better prices to stay in the best places.</p>"
   ]
  },
  {
   "cell_type": "markdown",
   "id": "fbc6b597",
   "metadata": {},
   "source": [
    "<p>Now, let us take a look at the price evolution for the year of 2023 for these place.</p>"
   ]
  },
  {
   "cell_type": "code",
   "execution_count": 37,
   "id": "4042de62",
   "metadata": {},
   "outputs": [],
   "source": [
    "# Grouping by date and neighbourhood\n",
    "df_calendar_neighbourhoods_and_date = df_calendar_top_listings.copy().groupby(by=['date','neighbourhood']).mean()"
   ]
  },
  {
   "cell_type": "code",
   "execution_count": 38,
   "id": "c0bdc04e",
   "metadata": {},
   "outputs": [],
   "source": [
    "df_calendar_neighbourhoods_and_date = df_calendar_neighbourhoods_and_date['price']"
   ]
  },
  {
   "cell_type": "code",
   "execution_count": 39,
   "id": "5ceb9fb9",
   "metadata": {},
   "outputs": [],
   "source": [
    "df_calendar_neighbourhoods_and_date = df_calendar_neighbourhoods_and_date.unstack(level = 'neighbourhood')"
   ]
  },
  {
   "cell_type": "code",
   "execution_count": 43,
   "id": "76facd18",
   "metadata": {},
   "outputs": [],
   "source": [
    "def plot_price_trend(df):\n",
    "    '''\n",
    "    This function plot the price trend from a dataframe. The plot is formatted with labels, legends and specific size.\n",
    "    \n",
    "    input: df -> Unstacked gropby dataframe with the columns date and neighbourhoods names.\n",
    "    \n",
    "    output: line plot of the price by neighbourhood trend along dates.\n",
    "    \n",
    "    '''\n",
    "    fig, ax = plt.subplots(figsize=(10, 4.5))\n",
    "\n",
    "    df.plot(ax=ax)\n",
    "\n",
    "    ax.set_xlabel('Date')\n",
    "    ax.set_ylabel('Price [R$]')\n",
    "\n",
    "    ax.legend(ax.get_lines(), df.columns, loc='best', ncol=2)\n",
    "    \n",
    "    plt.tight_layout()\n",
    "    \n",
    "    return "
   ]
  },
  {
   "cell_type": "code",
   "execution_count": 44,
   "id": "5a589698",
   "metadata": {},
   "outputs": [
    {
     "data": {
      "image/png": "[encoded data removed]",
      "text/plain": [
       "<Figure size 1000x450 with 1 Axes>"
      ]
     },
     "metadata": {},
     "output_type": "display_data"
    }
   ],
   "source": [
    "# Plotting first 5 places of interest prices trend\n",
    "df_calendar_neighbourhoods_and_date_1 = df_calendar_neighbourhoods_and_date[list_top_neighbourhoods[:5]]\n",
    "plot_price_trend(df_calendar_neighbourhoods_and_date_1)"
   ]
  },
  {
   "cell_type": "code",
   "execution_count": 45,
   "id": "c9504316",
   "metadata": {},
   "outputs": [
    {
     "data": {
      "image/png": "[encoded data removed]",
      "text/plain": [
       "<Figure size 1000x450 with 1 Axes>"
      ]
     },
     "metadata": {},
     "output_type": "display_data"
    }
   ],
   "source": [
    "# Plotting second 5 places of interest prices trend\n",
    "df_calendar_neighbourhoods_and_date_2 = df_calendar_neighbourhoods_and_date[list_top_neighbourhoods[5:]]\n",
    "plot_price_trend(df_calendar_neighbourhoods_and_date_2)"
   ]
  },
  {
   "cell_type": "markdown",
   "id": "1677daf2",
   "metadata": {},
   "source": [
    "<p>From the prices trend plotted above, we can see that in fact the prices are higher during New Year's Eve (close to 31 of December) and Carnival (16 of February to 23 of February). We can see that after these events the prices drop and from the end of July to the beggining of November, the prices are very stable and signifcantilly lower in every neighborhood.</p>"
   ]
  },
  {
   "cell_type": "markdown",
   "id": "615d72bc",
   "metadata": {},
   "source": [
    "<h2>Conclusion</h2>\n",
    "<p>After or brief analisys, we could find the answers to our questions. We found the neighbourhoods with most of the listings,the prices and review scores for these locations and the prices trend during the year.</p>"
   ]
  },
  {
   "cell_type": "code",
   "execution_count": null,
   "id": "86cda6a8",
   "metadata": {},
   "outputs": [],
   "source": []
  }
 ],
 "metadata": {
  "kernelspec": {
   "display_name": "Python 3 (ipykernel)",
   "language": "python",
   "name": "python3"
  },
  "language_info": {
   "codemirror_mode": {
    "name": "ipython",
    "version": 3
   },
   "file_extension": ".py",
   "mimetype": "text/x-python",
   "name": "python",
   "nbconvert_exporter": "python",
   "pygments_lexer": "ipython3",
   "version": "3.9.12"
  }
 },
 "nbformat": 4,
 "nbformat_minor": 5
}
